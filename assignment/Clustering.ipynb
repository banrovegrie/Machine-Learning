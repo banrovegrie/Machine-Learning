{
 "cells": [
  {
   "cell_type": "markdown",
   "metadata": {
    "id": "ikO8CeXWXY-I"
   },
   "source": [
    "# Clustering\n",
    "\n",
    "Step 1: Load the Fashion MNIST Data set "
   ]
  },
  {
   "cell_type": "code",
   "execution_count": null,
   "metadata": {
    "id": "u1eeftgsW8RQ"
   },
   "outputs": [],
   "source": [
    "import numpy as np\n",
    "import matplotlib.pyplot as plt \n",
    "from scipy import stats \n",
    "from math import isclose \n",
    "from keras.datasets import fashion_mnist "
   ]
  },
  {
   "cell_type": "code",
   "execution_count": null,
   "metadata": {
    "colab": {
     "base_uri": "https://localhost:8080/"
    },
    "id": "0mwY7MrNYni_",
    "outputId": "5220c57e-3d63-45c1-d239-58b8dd646a99"
   },
   "outputs": [
    {
     "name": "stdout",
     "output_type": "stream",
     "text": [
      "(5000, 784)\n"
     ]
    }
   ],
   "source": [
    "(x_train,y_train),(x_test,y_test)=fashion_mnist.load_data()\n",
    "x_train=x_train.reshape(-1,x_train.shape[1]*x_train.shape[2])\n",
    "x_train=x_train[:5000]\n",
    "print(x_train.shape)\n"
   ]
  },
  {
   "cell_type": "markdown",
   "metadata": {
    "id": "m4k6oPLVYzGz"
   },
   "source": [
    "Step 2: Implement the Kmeans class \n",
    "\n",
    "<b>Important functions</b>\n",
    "<br>\n",
    "-  `Init function`:  Inputs are the data, initialisation method and distance method \n",
    "- `euclidean distance` : Takes in a 2D matrix and a vector, and finds the euclidean distances of all the rows from the vector \n",
    "- `manhattan distance` : Takes in the same parameters as above, but returns the manhattan distance \n",
    "- `forgy method` : Randomly chooses any `k` of the sample data points as the centers for the initial iteration \n",
    "- `random paritition` : Randomly allocates a cluster to each of the data points. The initialises the centers as the centroids of each of these clusters \n",
    "- `train` : Updates the centers `niter` number of times.\n",
    "- `sos_within_cluster`: It returns the sum of all the distances of each data point from its respective centroid. "
   ]
  },
  {
   "cell_type": "code",
   "execution_count": null,
   "metadata": {
    "colab": {
     "base_uri": "https://localhost:8080/"
    },
    "id": "O6aq1OSsjRMp",
    "outputId": "e6056651-9921-442b-c045-79ff53e21dcd"
   },
   "outputs": [
    {
     "name": "stdout",
     "output_type": "stream",
     "text": [
      "Centre shape (4, 784)\n",
      "K means completed\n",
      "14058824983.719261\n"
     ]
    }
   ],
   "source": [
    "from random import randint\n",
    "import numpy as np\n",
    "class Kmeans:\n",
    "\n",
    "  def __init__(self,k,data,niter,center_init,dist_method):\n",
    "    self.k=k\n",
    "    self.data=data\n",
    "    self.niter=niter\n",
    "    self.center_init=center_init\n",
    "    self.dist_method=dist_method\n",
    "    self.centers=None \n",
    "    self.num_datapts,self.features=data.shape\n",
    "    \n",
    "  def euclidean_distance(self, X, centre):\n",
    "    return np.sqrt(np.sum((X - centre) ** 2, axis=1))\n",
    "  \n",
    "  def manhattan_distance(self, X, centre):\n",
    "    return np.sum(np.abs(X - centre), axis = 1)\n",
    "  \n",
    "  def forgy(self):\n",
    "    rnd_indices = np.random.randint(self.features, size=self.k)\n",
    "    self.centers=self.data[rnd_indices,:]\n",
    "  \n",
    "  def random_part(self):\n",
    "    rnd_indices = np.random.choice(range(0, self.k), replace=True, size=self.features)\n",
    "    centers = []\n",
    "    for center in range(self.k):\n",
    "        centers.append(self.data[rnd_indices == center].mean(axis=0))\n",
    "    self.centers=np.concatenate([val[ None, :] for val in centers], axis = 0)\n",
    "    \n",
    "  def train(self):\n",
    "    \n",
    "    if self.center_init==\"rndp\":\n",
    "        self.random_part()\n",
    "    else:\n",
    "        self.forgy()\n",
    "      \n",
    "    for i in range(self.niter):\n",
    "        new_distances=None\n",
    "        distances=None\n",
    "        for center in range(self.k):\n",
    "            if self.dist_method==\"eu\": \n",
    "                new_distances=self.euclidean_distance(self.data, self.centers[center])\n",
    "            else:\n",
    "                new_distances=self.manhattan_distance(self.data, self.centers[center])\n",
    "            if(center==0):\n",
    "                distances=new_distances\n",
    "            else:\n",
    "                distances = np.c_[distances,new_distances]\n",
    "\n",
    "        cluster_assignment = np.argmin(distances, axis=1)\n",
    "\n",
    "        for center in range(self.k):\n",
    "            cluster_i = np.argwhere(cluster_assignment == i)\n",
    "            cluster_data = self.data[cluster_i].reshape((cluster_i.shape[0], 784))\n",
    "            self.centers[center] = np.mean(cluster_data, axis=0)\n",
    "    \n",
    "  def sos_within_cluster(self):\n",
    "    distances=None\n",
    "    for center in range(self.k):\n",
    "        new_distances=self.euclidean_distance(self.data, self.centers[center])\n",
    "        if(center==0):\n",
    "            distances=new_distances\n",
    "        else:\n",
    "            distances=distances = np.c_[distances,new_distances]\n",
    "    min_dist = np.min(distances, axis=1)\n",
    "    return np.sum(min_dist)\n",
    "  \n",
    "      \n",
    "kmeans = Kmeans(k=4,data=x_train, niter=200,center_init=\"forgy\",dist_method=\"eu\")\n",
    "kmeans.train()\n",
    "print(kmeans.sos_within_cluster())"
   ]
  },
  {
   "cell_type": "code",
   "execution_count": null,
   "metadata": {
    "colab": {
     "base_uri": "https://localhost:8080/",
     "height": 1000
    },
    "id": "IRJTUWOljWso",
    "outputId": "5741e30d-1ca3-458d-b346-10553f341fbc"
   },
   "outputs": [
    {
     "name": "stdout",
     "output_type": "stream",
     "text": [
      "Centre shape (1, 784)\n",
      "K means completed\n",
      "Centre shape (2, 784)\n",
      "K means completed\n",
      "Centre shape (3, 784)\n",
      "K means completed\n",
      "Centre shape (4, 784)\n",
      "K means completed\n",
      "Centre shape (5, 784)\n",
      "K means completed\n",
      "Centre shape (6, 784)\n",
      "K means completed\n",
      "Centre shape (7, 784)\n",
      "K means completed\n",
      "Centre shape (8, 784)\n",
      "K means completed\n",
      "Centre shape (9, 784)\n",
      "K means completed\n",
      "Centre shape (10, 784)\n",
      "K means completed\n",
      "Centre shape (11, 784)\n",
      "K means completed\n",
      "Centre shape (12, 784)\n",
      "K means completed\n",
      "Centre shape (13, 784)\n",
      "K means completed\n",
      "Centre shape (14, 784)\n",
      "K means completed\n",
      "Centre shape (15, 784)\n",
      "K means completed\n",
      "Centre shape (16, 784)\n",
      "K means completed\n",
      "Centre shape (17, 784)\n",
      "K means completed\n",
      "Centre shape (18, 784)\n",
      "K means completed\n",
      "Centre shape (19, 784)\n",
      "K means completed\n",
      "Centre shape (20, 784)\n",
      "K means completed\n",
      "Centre shape (21, 784)\n",
      "K means completed\n",
      "Centre shape (22, 784)\n",
      "K means completed\n",
      "Centre shape (23, 784)\n",
      "K means completed\n",
      "Centre shape (24, 784)\n",
      "K means completed\n"
     ]
    },
    {
     "data": {
      "image/png": "[encoded data removed]",
      "text/plain": [
       "<Figure size 432x288 with 1 Axes>"
      ]
     },
     "metadata": {
      "needs_background": "light"
     },
     "output_type": "display_data"
    }
   ],
   "source": [
    "from matplotlib import pyplot as plt\n",
    "max_cluster = 25\n",
    "clusters=range(1,max_cluster)\n",
    "sos_within_cluster = []\n",
    "for i in clusters:\n",
    "    kmeans = Kmeans(k=i,data=x_train, niter=200,center_init=\"forgy\",dist_method=\"eu\")   \n",
    "    kmeans.train()\n",
    "    sos_within_cluster.append(kmeans.sos_within_cluster())\n",
    "\n",
    "plt.plot(clusters, sos_within_cluster)\n",
    "plt.xlabel('Number of Clusters')\n",
    "plt.ylabel('within-cluster sums of squares (WCSS)')\n",
    "plt.title('Elbow method to determine optimum number of clusters')\n",
    "plt.show()"
   ]
  },
  {
   "cell_type": "markdown",
   "metadata": {
    "id": "y5GsBRbPrgp5"
   },
   "source": [
    "# Results \n",
    "\n",
    "1. No significant chnages were observed in using any of the initialisation methods. \n",
    "2. I noticed that the results, when using Manhattan Distance were a little more noisy than when using Euclidean distance. "
   ]
  },
  {
   "cell_type": "markdown",
   "metadata": {
    "id": "9m3p-XBaZsAy"
   },
   "source": [
    "# Hierarchial Clustering "
   ]
  },
  {
   "cell_type": "code",
   "execution_count": null,
   "metadata": {
    "id": "3acT7jPqb1-Y"
   },
   "outputs": [],
   "source": [
    "from scipy.cluster.hierarchy import dendrogram,linkage\n",
    "from sklearn.cluster import AgglomerativeClustering\n",
    "from keras.datasets import fashion_mnist \n",
    "import matplotlib.pyplot as plt\n",
    "import numpy as np"
   ]
  },
  {
   "cell_type": "code",
   "execution_count": null,
   "metadata": {
    "colab": {
     "base_uri": "https://localhost:8080/"
    },
    "id": "9Ml6e73LeG6I",
    "outputId": "bcf8f83c-aec2-459c-abc1-4a367b4ead6c"
   },
   "outputs": [
    {
     "name": "stdout",
     "output_type": "stream",
     "text": [
      "(5000, 784)\n"
     ]
    }
   ],
   "source": [
    "(x_train,y_train),(x_test,y_test)=fashion_mnist.load_data()\n",
    "X=x_train.reshape(-1,x_train.shape[1]*x_train.shape[2])\n",
    "X=X[:5000]\n",
    "print(X.shape)"
   ]
  },
  {
   "cell_type": "code",
   "execution_count": null,
   "metadata": {
    "colab": {
     "base_uri": "https://localhost:8080/",
     "height": 315
    },
    "id": "9UcAO7klb8sK",
    "outputId": "ac48e9a2-8b05-42ab-d7fa-684c7d439fc8"
   },
   "outputs": [
    {
     "data": {
      "text/plain": [
       "Text(0.5, 0, 'Number of points in node (or index of point if no parenthesis).')"
      ]
     },
     "execution_count": 13,
     "metadata": {},
     "output_type": "execute_result"
    },
    {
     "data": {
      "image/png": "[encoded data removed]",
      "text/plain": [
       "<Figure size 432x288 with 1 Axes>"
      ]
     },
     "metadata": {
      "needs_background": "light"
     },
     "output_type": "display_data"
    }
   ],
   "source": [
    "def plot_dendrogram(model, **kwargs):\n",
    "\n",
    "    counts = np.zeros(model.children_.shape[0])\n",
    "    n_samples = len(model.labels_)\n",
    "    for i, merge in enumerate(model.children_):\n",
    "        current_count = 0\n",
    "        for child_idx in merge:\n",
    "            if child_idx < n_samples:\n",
    "                current_count += 1  # leaf node\n",
    "            else:\n",
    "                current_count += counts[child_idx - n_samples]\n",
    "        counts[i] = current_count\n",
    "\n",
    "    linkage_matrix = np.column_stack(\n",
    "        [model.children_, model.distances_, counts]\n",
    "    ).astype(float)\n",
    "\n",
    "    dendrogram(linkage_matrix, **kwargs)\n",
    "\n",
    "model = AgglomerativeClustering(distance_threshold=0, n_clusters=None)\n",
    "model.fit(X)\n",
    "plt.title(\"Hierarchical Clustering Dendrogram\")\n",
    "plot_dendrogram(model, truncate_mode=\"level\", p=3)\n",
    "plt.xlabel(\"Number of points in node (or index of point if no parenthesis).\")"
   ]
  },
  {
   "cell_type": "markdown",
   "metadata": {
    "id": "mbFfZ2jqeZBp"
   },
   "source": [
    "Question: Explain the Procedure to find the optimal number of clusters using dendrogram.\n",
    "\n",
    "Answer: In the dendrogram locate the largest vertical difference between the nodes, and in the middle pass an horizontal line, which acts as the threshold. Now to determine the number of clusters find the number of vertical lines intersecting the horizontal line. "
   ]
  },
  {
   "cell_type": "code",
   "execution_count": null,
   "metadata": {
    "colab": {
     "base_uri": "https://localhost:8080/",
     "height": 268
    },
    "id": "yhL29m7PgBiM",
    "outputId": "a73bf767-20b3-4997-c80d-1f8e28175cbe"
   },
   "outputs": [
    {
     "data": {
      "image/png": "[encoded data removed]",
      "text/plain": [
       "<Figure size 432x288 with 1 Axes>"
      ]
     },
     "metadata": {
      "needs_background": "light"
     },
     "output_type": "display_data"
    }
   ],
   "source": [
    "import sys\n",
    "sys.setrecursionlimit(15000)\n",
    "# If I dont include the above line, then I get a stack overflow error\n",
    "Z = linkage(X, 'single')\n",
    "dn = dendrogram(Z)"
   ]
  },
  {
   "cell_type": "code",
   "execution_count": null,
   "metadata": {
    "colab": {
     "base_uri": "https://localhost:8080/",
     "height": 268
    },
    "id": "N12egxhAgF-z",
    "outputId": "886853f0-010f-4303-f90a-1f00ea1ec7c6"
   },
   "outputs": [
    {
     "data": {
      "image/png": "[encoded data removed]",
      "text/plain": [
       "<Figure size 432x288 with 1 Axes>"
      ]
     },
     "metadata": {
      "needs_background": "light"
     },
     "output_type": "display_data"
    }
   ],
   "source": [
    "Z = linkage(X, 'complete')\n",
    "dn = dendrogram(Z)"
   ]
  },
  {
   "cell_type": "markdown",
   "metadata": {
    "id": "xdndsjgjgb_D"
   },
   "source": [
    "Question: Mention the differences observed using single and complete linkage.\n",
    "\n",
    "Answer: In a single linkage the clusters are more spread out and not well defined, as we can see from the plot above. Also single linkage took more time than complete linkage \n",
    "Complete linkage, the clusters are wee defined and can be distinguished as seen in the plot. The clusters produced are tighter. "
   ]
  }
 ],
 "metadata": {
  "colab": {
   "name": "Clustering.ipynb",
   "provenance": []
  },
  "kernelspec": {
   "display_name": "Python 3",
   "language": "python",
   "name": "python3"
  },
  "language_info": {
   "codemirror_mode": {
    "name": "ipython",
    "version": 3
   },
   "file_extension": ".py",
   "mimetype": "text/x-python",
   "name": "python",
   "nbconvert_exporter": "python",
   "pygments_lexer": "ipython3",
   "version": "3.8.10"
  }
 },
 "nbformat": 4,
 "nbformat_minor": 1
}
